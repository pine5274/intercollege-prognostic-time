{
 "cells": [
  {
   "cell_type": "code",
   "execution_count": null,
   "metadata": {},
   "outputs": [],
   "source": [
    "import numpy as np\n",
    "import matplotlib.pyplot as plt\n",
    "\n",
    "x = np.linspace(60, 110, 1000)\n",
    "plt.figure(0)\n",
    "plt.plot(x, 333.07 + (101-x) * 0.91, label='%IDT check tool by weight')\n",
    "plt.plot(x, 333.07/((x/101)**0.222), label='Concept2 weight adjustment')\n",
    "plt.plot(x, 333.07*((x+22)/123)**(-2/9), label='Rowing force conversion')\n",
    "plt.title(\"Men's 2000m time for 100% IDT\")\n",
    "plt.xlabel('weight [kg]', fontsize=12) \n",
    "plt.ylabel('2000m Time [s]', fontsize=12) \n",
    "plt.grid()\n",
    "plt.legend()\n",
    "# plt.savefig('./../dst/weight/men.jpg')\n",
    "plt.figure()"
   ]
  }
 ],
 "metadata": {
  "language_info": {
   "name": "python"
  },
  "orig_nbformat": 4
 },
 "nbformat": 4,
 "nbformat_minor": 2
}
